{
  "nbformat": 4,
  "nbformat_minor": 0,
  "metadata": {
    "colab": {
      "name": "Project1_MadhuraDeshmukh.ipynb",
      "provenance": []
    },
    "kernelspec": {
      "name": "python3",
      "display_name": "Python 3"
    },
    "language_info": {
      "name": "python"
    }
  },
  "cells": [
    {
      "cell_type": "code",
      "metadata": {
        "colab": {
          "base_uri": "https://localhost:8080/"
        },
        "id": "AjHKSP0HEeZi",
        "outputId": "42f0df7c-d4b5-4148-d7ac-92784d217899"
      },
      "source": [
        "import numpy as np\n",
        "import pandas as pd\n",
        "import matplotlib.cm as cm\n",
        "import matplotlib.pyplot as plt\n",
        "#import the required libraries\n",
        "\n",
        "train_data=pd.read_csv(\"train.csv\")\n",
        "#import required data\n",
        "\n",
        "train_data.head()\n",
        "train_data.shape\n",
        "\n"
      ],
      "execution_count": 1,
      "outputs": [
        {
          "output_type": "execute_result",
          "data": {
            "text/plain": [
              "(14999, 9)"
            ]
          },
          "metadata": {
            "tags": []
          },
          "execution_count": 1
        }
      ]
    },
    {
      "cell_type": "code",
      "metadata": {
        "colab": {
          "base_uri": "https://localhost:8080/",
          "height": 204
        },
        "id": "LzoJnhljEtsY",
        "outputId": "362d7d9f-2b55-4288-b76e-d1382af116ec"
      },
      "source": [
        "#remove the missing values and other things\n",
        " \n",
        "train_data=train_data[train_data.views != \"F\"]\n",
        "train_data=train_data[train_data.likes != \"F\"]\n",
        "train_data=train_data[train_data.comment != \"F\"]\n",
        "train_data=train_data[train_data.dislikes != \"F\"]\n",
        "train_data.head()\n",
        "category={'A':1,'B' :2,'C' :3,'D' :4, 'E' :5,'F':6,'G':7,'H':8}\n",
        "train_data[\"category\"]=train_data[\"category\"].map(category)\n",
        "train_data.head()\n",
        "\n",
        "#covert in numerical values\n",
        "train_data[\"views\"]=pd.to_numeric(train_data[\"views\"])\n",
        "train_data[\"comment\"]=pd.to_numeric(train_data[\"comment\"])\n",
        "train_data[\"likes\"]=pd.to_numeric(train_data[\"likes\"])\n",
        "train_data[\"dislikes\"]=pd.to_numeric(train_data[\"dislikes\"])\n",
        "train_data[\"adview\"]=pd.to_numeric(train_data[\"adview\"])\n",
        "column_vidid=train_data[\"vidid\"]\n",
        "\n",
        "#encoding features likes durtion,vidid,published.\n",
        "\n",
        "from sklearn.preprocessing import LabelEncoder\n",
        "train_data[\"duration\"]=LabelEncoder().fit_transform(train_data[\"duration\"]) \n",
        "train_data[\"vidid\"]=LabelEncoder().fit_transform(train_data[\"vidid\"]) \n",
        "train_data[\"published\"]=LabelEncoder().fit_transform(train_data[\"published\"]) \n",
        "train_data.head()\n",
        "\n"
      ],
      "execution_count": 2,
      "outputs": [
        {
          "output_type": "execute_result",
          "data": {
            "text/html": [
              "<div>\n",
              "<style scoped>\n",
              "    .dataframe tbody tr th:only-of-type {\n",
              "        vertical-align: middle;\n",
              "    }\n",
              "\n",
              "    .dataframe tbody tr th {\n",
              "        vertical-align: top;\n",
              "    }\n",
              "\n",
              "    .dataframe thead th {\n",
              "        text-align: right;\n",
              "    }\n",
              "</style>\n",
              "<table border=\"1\" class=\"dataframe\">\n",
              "  <thead>\n",
              "    <tr style=\"text-align: right;\">\n",
              "      <th></th>\n",
              "      <th>vidid</th>\n",
              "      <th>adview</th>\n",
              "      <th>views</th>\n",
              "      <th>likes</th>\n",
              "      <th>dislikes</th>\n",
              "      <th>comment</th>\n",
              "      <th>published</th>\n",
              "      <th>duration</th>\n",
              "      <th>category</th>\n",
              "    </tr>\n",
              "  </thead>\n",
              "  <tbody>\n",
              "    <tr>\n",
              "      <th>0</th>\n",
              "      <td>5912</td>\n",
              "      <td>40</td>\n",
              "      <td>1031602</td>\n",
              "      <td>8523</td>\n",
              "      <td>363</td>\n",
              "      <td>1095</td>\n",
              "      <td>2168</td>\n",
              "      <td>2925</td>\n",
              "      <td>6</td>\n",
              "    </tr>\n",
              "    <tr>\n",
              "      <th>1</th>\n",
              "      <td>2741</td>\n",
              "      <td>2</td>\n",
              "      <td>1707</td>\n",
              "      <td>56</td>\n",
              "      <td>2</td>\n",
              "      <td>6</td>\n",
              "      <td>2185</td>\n",
              "      <td>3040</td>\n",
              "      <td>4</td>\n",
              "    </tr>\n",
              "    <tr>\n",
              "      <th>2</th>\n",
              "      <td>8138</td>\n",
              "      <td>1</td>\n",
              "      <td>2023</td>\n",
              "      <td>25</td>\n",
              "      <td>0</td>\n",
              "      <td>2</td>\n",
              "      <td>2094</td>\n",
              "      <td>1863</td>\n",
              "      <td>3</td>\n",
              "    </tr>\n",
              "    <tr>\n",
              "      <th>3</th>\n",
              "      <td>9005</td>\n",
              "      <td>6</td>\n",
              "      <td>620860</td>\n",
              "      <td>777</td>\n",
              "      <td>161</td>\n",
              "      <td>153</td>\n",
              "      <td>2119</td>\n",
              "      <td>2546</td>\n",
              "      <td>8</td>\n",
              "    </tr>\n",
              "    <tr>\n",
              "      <th>4</th>\n",
              "      <td>122</td>\n",
              "      <td>1</td>\n",
              "      <td>666</td>\n",
              "      <td>1</td>\n",
              "      <td>0</td>\n",
              "      <td>0</td>\n",
              "      <td>2091</td>\n",
              "      <td>1963</td>\n",
              "      <td>4</td>\n",
              "    </tr>\n",
              "  </tbody>\n",
              "</table>\n",
              "</div>"
            ],
            "text/plain": [
              "   vidid  adview    views  likes  ...  comment  published  duration  category\n",
              "0   5912      40  1031602   8523  ...     1095       2168      2925         6\n",
              "1   2741       2     1707     56  ...        6       2185      3040         4\n",
              "2   8138       1     2023     25  ...        2       2094      1863         3\n",
              "3   9005       6   620860    777  ...      153       2119      2546         8\n",
              "4    122       1      666      1  ...        0       2091      1963         4\n",
              "\n",
              "[5 rows x 9 columns]"
            ]
          },
          "metadata": {
            "tags": []
          },
          "execution_count": 2
        }
      ]
    },
    {
      "cell_type": "code",
      "metadata": {
        "colab": {
          "base_uri": "https://localhost:8080/",
          "height": 204
        },
        "id": "dmy4dXpQEtno",
        "outputId": "65ccbdc4-02f4-447e-95fe-659860c47916"
      },
      "source": [
        "\n",
        "#convert time in seconds for duration\n",
        "import datetime \n",
        "import time \n",
        "def checki(x):\n",
        "  y = x[2:]\n",
        "  h = ''\n",
        "  m = ''\n",
        "  s = ''\n",
        "  mm = ''\n",
        "  P = ['H','M','S']\n",
        "  for i in y:\n",
        "    if i not in P:\n",
        "      mm+=i\n",
        "    else:\n",
        "      if(i==\"H\"):\n",
        "        h = mm\n",
        "        mm = ''\n",
        "      elif(i == \"M\"):\n",
        "        m = mm\n",
        "        mm = ''\n",
        "      else:\n",
        "        s = mm\n",
        "        mm = ''\n",
        "  if(h==''):\n",
        "    h = '00'\n",
        "  if(m == ''):\n",
        "    m = '00'\n",
        "  if(s==''):\n",
        "    s='00'\n",
        "  bp = h+':'+m+':'+s\n",
        "  return bp\n",
        "\n",
        "train=pd.read_csv(\"train.csv\")\n",
        "mp = pd.read_csv(\"train.csv\")[\"duration\"]\n",
        "time = mp.apply(checki)\n",
        "\n",
        "def func_sec(time_string):\n",
        "  h, m, s = time_string.split(':')\n",
        "  return int(h)*3600 + int(m)*60 + int(s)\n",
        "\n",
        "time1=time.apply(func_sec)\n",
        "\n",
        "train_data[\"duration\"]=time1\n",
        "train_data.head()"
      ],
      "execution_count": 3,
      "outputs": [
        {
          "output_type": "execute_result",
          "data": {
            "text/html": [
              "<div>\n",
              "<style scoped>\n",
              "    .dataframe tbody tr th:only-of-type {\n",
              "        vertical-align: middle;\n",
              "    }\n",
              "\n",
              "    .dataframe tbody tr th {\n",
              "        vertical-align: top;\n",
              "    }\n",
              "\n",
              "    .dataframe thead th {\n",
              "        text-align: right;\n",
              "    }\n",
              "</style>\n",
              "<table border=\"1\" class=\"dataframe\">\n",
              "  <thead>\n",
              "    <tr style=\"text-align: right;\">\n",
              "      <th></th>\n",
              "      <th>vidid</th>\n",
              "      <th>adview</th>\n",
              "      <th>views</th>\n",
              "      <th>likes</th>\n",
              "      <th>dislikes</th>\n",
              "      <th>comment</th>\n",
              "      <th>published</th>\n",
              "      <th>duration</th>\n",
              "      <th>category</th>\n",
              "    </tr>\n",
              "  </thead>\n",
              "  <tbody>\n",
              "    <tr>\n",
              "      <th>0</th>\n",
              "      <td>5912</td>\n",
              "      <td>40</td>\n",
              "      <td>1031602</td>\n",
              "      <td>8523</td>\n",
              "      <td>363</td>\n",
              "      <td>1095</td>\n",
              "      <td>2168</td>\n",
              "      <td>457</td>\n",
              "      <td>6</td>\n",
              "    </tr>\n",
              "    <tr>\n",
              "      <th>1</th>\n",
              "      <td>2741</td>\n",
              "      <td>2</td>\n",
              "      <td>1707</td>\n",
              "      <td>56</td>\n",
              "      <td>2</td>\n",
              "      <td>6</td>\n",
              "      <td>2185</td>\n",
              "      <td>570</td>\n",
              "      <td>4</td>\n",
              "    </tr>\n",
              "    <tr>\n",
              "      <th>2</th>\n",
              "      <td>8138</td>\n",
              "      <td>1</td>\n",
              "      <td>2023</td>\n",
              "      <td>25</td>\n",
              "      <td>0</td>\n",
              "      <td>2</td>\n",
              "      <td>2094</td>\n",
              "      <td>136</td>\n",
              "      <td>3</td>\n",
              "    </tr>\n",
              "    <tr>\n",
              "      <th>3</th>\n",
              "      <td>9005</td>\n",
              "      <td>6</td>\n",
              "      <td>620860</td>\n",
              "      <td>777</td>\n",
              "      <td>161</td>\n",
              "      <td>153</td>\n",
              "      <td>2119</td>\n",
              "      <td>262</td>\n",
              "      <td>8</td>\n",
              "    </tr>\n",
              "    <tr>\n",
              "      <th>4</th>\n",
              "      <td>122</td>\n",
              "      <td>1</td>\n",
              "      <td>666</td>\n",
              "      <td>1</td>\n",
              "      <td>0</td>\n",
              "      <td>0</td>\n",
              "      <td>2091</td>\n",
              "      <td>31</td>\n",
              "      <td>4</td>\n",
              "    </tr>\n",
              "  </tbody>\n",
              "</table>\n",
              "</div>"
            ],
            "text/plain": [
              "   vidid  adview    views  likes  ...  comment  published  duration  category\n",
              "0   5912      40  1031602   8523  ...     1095       2168       457         6\n",
              "1   2741       2     1707     56  ...        6       2185       570         4\n",
              "2   8138       1     2023     25  ...        2       2094       136         3\n",
              "3   9005       6   620860    777  ...      153       2119       262         8\n",
              "4    122       1      666      1  ...        0       2091        31         4\n",
              "\n",
              "[5 rows x 9 columns]"
            ]
          },
          "metadata": {
            "tags": []
          },
          "execution_count": 3
        }
      ]
    },
    {
      "cell_type": "code",
      "metadata": {
        "colab": {
          "base_uri": "https://localhost:8080/",
          "height": 849
        },
        "id": "oQGuj7CKEtmT",
        "outputId": "6b148656-70b0-4178-b715-cd35a0c550ac"
      },
      "source": [
        "\n",
        "#  Visualise the dataset using plotting using heatmaps and plots.\n",
        "\n",
        "plt.hist(train_data[\"category\"])\n",
        "plt.title(\"category histogram plot\")\n",
        "plt.xlabel(\"category\")\n",
        "plt.ylabel(\"views\")\n",
        "plt.show()\n",
        "\n",
        "plt.plot(train_data[\"adview\"])\n",
        "plt.title(\"adview plot\")\n",
        "plt.xlabel(\"adviews\")\n",
        "plt.ylabel(\"length of video\")\n",
        "plt.show()\n",
        "\n",
        "train_data=train_data[train_data[\"adview\"] < 2000000]\n",
        "plt.plot(train_data[\"adview\"])\n",
        "plt.show\n"
      ],
      "execution_count": 4,
      "outputs": [
        {
          "output_type": "display_data",
          "data": {
            "image/png": "[encoded data removed]",
            "text/plain": [
              "<Figure size 432x288 with 1 Axes>"
            ]
          },
          "metadata": {
            "tags": [],
            "needs_background": "light"
          }
        },
        {
          "output_type": "display_data",
          "data": {
            "image/png": "[encoded data removed]",
            "text/plain": [
              "<Figure size 432x288 with 1 Axes>"
            ]
          },
          "metadata": {
            "tags": [],
            "needs_background": "light"
          }
        },
        {
          "output_type": "execute_result",
          "data": {
            "text/plain": [
              "<function matplotlib.pyplot.show>"
            ]
          },
          "metadata": {
            "tags": []
          },
          "execution_count": 4
        },
        {
          "output_type": "display_data",
          "data": {
            "image/png": "[encoded data removed]",
            "text/plain": [
              "<Figure size 432x288 with 1 Axes>"
            ]
          },
          "metadata": {
            "tags": [],
            "needs_background": "light"
          }
        }
      ]
    },
    {
      "cell_type": "code",
      "metadata": {
        "colab": {
          "base_uri": "https://localhost:8080/",
          "height": 487
        },
        "id": "8cZJpomfEth8",
        "outputId": "b074de09-2bcb-4652-bb9d-1a26ed92e0a7"
      },
      "source": [
        "import seaborn as sns\n",
        "f ,ax = plt.subplots(figsize=(10,8))\n",
        "corr=train_data.corr()\n",
        "sns.heatmap(corr,mask=np.zeros_like(corr,dtype=np.bool),cmap=sns.diverging_palette(220,10,as_cmap=True),square=True,ax=ax,annot=True)\n",
        "plt.show()"
      ],
      "execution_count": 5,
      "outputs": [
        {
          "output_type": "display_data",
          "data": {
            "image/png": "[encoded data removed]",
            "text/plain": [
              "<Figure size 720x576 with 2 Axes>"
            ]
          },
          "metadata": {
            "tags": [],
            "needs_background": "light"
          }
        }
      ]
    },
    {
      "cell_type": "code",
      "metadata": {
        "colab": {
          "base_uri": "https://localhost:8080/",
          "height": 204
        },
        "id": "VW5ROkrbEtgo",
        "outputId": "f9db693b-90af-406f-9d07-a8696190690f"
      },
      "source": [
        "#Split dataset in train and test as well as into inputs and outputs\n",
        "Y_train=pd.DataFrame(data=train_data.iloc[:,1].values,columns=[\"target\"])\n",
        "train_data=train_data.drop(\"adview\",axis=1)\n",
        "train_data=train_data.drop(\"vidid\",axis=1)\n",
        "train_data.head()\n",
        "\n",
        "\n"
      ],
      "execution_count": 6,
      "outputs": [
        {
          "output_type": "execute_result",
          "data": {
            "text/html": [
              "<div>\n",
              "<style scoped>\n",
              "    .dataframe tbody tr th:only-of-type {\n",
              "        vertical-align: middle;\n",
              "    }\n",
              "\n",
              "    .dataframe tbody tr th {\n",
              "        vertical-align: top;\n",
              "    }\n",
              "\n",
              "    .dataframe thead th {\n",
              "        text-align: right;\n",
              "    }\n",
              "</style>\n",
              "<table border=\"1\" class=\"dataframe\">\n",
              "  <thead>\n",
              "    <tr style=\"text-align: right;\">\n",
              "      <th></th>\n",
              "      <th>views</th>\n",
              "      <th>likes</th>\n",
              "      <th>dislikes</th>\n",
              "      <th>comment</th>\n",
              "      <th>published</th>\n",
              "      <th>duration</th>\n",
              "      <th>category</th>\n",
              "    </tr>\n",
              "  </thead>\n",
              "  <tbody>\n",
              "    <tr>\n",
              "      <th>0</th>\n",
              "      <td>1031602</td>\n",
              "      <td>8523</td>\n",
              "      <td>363</td>\n",
              "      <td>1095</td>\n",
              "      <td>2168</td>\n",
              "      <td>457</td>\n",
              "      <td>6</td>\n",
              "    </tr>\n",
              "    <tr>\n",
              "      <th>1</th>\n",
              "      <td>1707</td>\n",
              "      <td>56</td>\n",
              "      <td>2</td>\n",
              "      <td>6</td>\n",
              "      <td>2185</td>\n",
              "      <td>570</td>\n",
              "      <td>4</td>\n",
              "    </tr>\n",
              "    <tr>\n",
              "      <th>2</th>\n",
              "      <td>2023</td>\n",
              "      <td>25</td>\n",
              "      <td>0</td>\n",
              "      <td>2</td>\n",
              "      <td>2094</td>\n",
              "      <td>136</td>\n",
              "      <td>3</td>\n",
              "    </tr>\n",
              "    <tr>\n",
              "      <th>3</th>\n",
              "      <td>620860</td>\n",
              "      <td>777</td>\n",
              "      <td>161</td>\n",
              "      <td>153</td>\n",
              "      <td>2119</td>\n",
              "      <td>262</td>\n",
              "      <td>8</td>\n",
              "    </tr>\n",
              "    <tr>\n",
              "      <th>4</th>\n",
              "      <td>666</td>\n",
              "      <td>1</td>\n",
              "      <td>0</td>\n",
              "      <td>0</td>\n",
              "      <td>2091</td>\n",
              "      <td>31</td>\n",
              "      <td>4</td>\n",
              "    </tr>\n",
              "  </tbody>\n",
              "</table>\n",
              "</div>"
            ],
            "text/plain": [
              "     views  likes  dislikes  comment  published  duration  category\n",
              "0  1031602   8523       363     1095       2168       457         6\n",
              "1     1707     56         2        6       2185       570         4\n",
              "2     2023     25         0        2       2094       136         3\n",
              "3   620860    777       161      153       2119       262         8\n",
              "4      666      1         0        0       2091        31         4"
            ]
          },
          "metadata": {
            "tags": []
          },
          "execution_count": 6
        }
      ]
    },
    {
      "cell_type": "code",
      "metadata": {
        "colab": {
          "base_uri": "https://localhost:8080/"
        },
        "id": "JvWuyHnLEtcz",
        "outputId": "5bed3cac-3a27-4b4f-c7bd-f70f808f3bc1"
      },
      "source": [
        "\n",
        "\n",
        "from sklearn.model_selection import train_test_split\n",
        "x_train,x_test,y_train,y_test=train_test_split(train_data,Y_train,test_size=0.2,random_state=42)\n",
        "x_train.shape\n",
        "\n",
        "# normalising data\n",
        "from sklearn.preprocessing import MinMaxScaler\n",
        "scaler=MinMaxScaler()\n",
        "x_train=scaler.fit_transform(x_train)\n",
        "x_test=scaler.fit_transform(x_test)\n",
        "x_train.mean()"
      ],
      "execution_count": 9,
      "outputs": [
        {
          "output_type": "execute_result",
          "data": {
            "text/plain": [
              "0.1739096800320488"
            ]
          },
          "metadata": {
            "tags": []
          },
          "execution_count": 9
        }
      ]
    },
    {
      "cell_type": "code",
      "metadata": {
        "colab": {
          "base_uri": "https://localhost:8080/"
        },
        "id": "toKAZcr6EtaF",
        "outputId": "77da571f-d2cc-4ab7-f860-8eed726ee953"
      },
      "source": [
        "\n",
        "# Use linear regression, support vector regressor, random forest and for training and get errors.\n",
        "\n",
        "# evaluation metrics\n",
        "from sklearn import metrics\n",
        "def print_error(x_test,y_test,model):\n",
        "  pred=model.predict(x_test)\n",
        "  print(\"Mean absolute error:\",metrics.mean_absolute_error(y_test,pred))\n",
        "  print(\"Mean squared error:\",metrics.mean_squared_error(y_test,pred))\n",
        "  print(\"Root mean absolute error:\",np.sqrt(metrics.mean_squared_error(y_test,pred)))\n",
        "\n",
        "# Linear Regrssion\n",
        "from sklearn import linear_model\n",
        "linear_reg=linear_model.LinearRegression()\n",
        "linear_reg.fit(x_train,y_train)\n",
        "print_error(x_test,y_test,linear_reg)\n",
        "\n",
        "#support vector regressor\n",
        "from sklearn.svm import SVR\n",
        "supportvector_reggresor=SVR()\n",
        "supportvector_reggresor.fit(x_train,y_train)\n",
        "print_error(x_test,y_test,linear_reg)\n",
        "\n"
      ],
      "execution_count": 10,
      "outputs": [
        {
          "output_type": "stream",
          "text": [
            "Mean absolute error: 3707.378005824532\n",
            "Mean squared error: 835663131.1210337\n",
            "Root mean absolute error: 28907.83857573986\n"
          ],
          "name": "stdout"
        },
        {
          "output_type": "stream",
          "text": [
            "/usr/local/lib/python3.7/dist-packages/sklearn/utils/validation.py:760: DataConversionWarning: A column-vector y was passed when a 1d array was expected. Please change the shape of y to (n_samples, ), for example using ravel().\n",
            "  y = column_or_1d(y, warn=True)\n"
          ],
          "name": "stderr"
        },
        {
          "output_type": "stream",
          "text": [
            "Mean absolute error: 3707.378005824532\n",
            "Mean squared error: 835663131.1210337\n",
            "Root mean absolute error: 28907.83857573986\n"
          ],
          "name": "stdout"
        }
      ]
    },
    {
      "cell_type": "code",
      "metadata": {
        "colab": {
          "base_uri": "https://localhost:8080/"
        },
        "id": "AduHrTMLEtXL",
        "outputId": "9be5636b-f9f7-4216-88c8-eb605f51e194"
      },
      "source": [
        "# decision tree regressor\n",
        "from sklearn.tree import DecisionTreeRegressor\n",
        "decision_tree=DecisionTreeRegressor()\n",
        "decision_tree.fit(x_train,y_train)\n",
        "print_error(x_test,y_test,decision_tree)\n",
        "\n",
        "# random forest regressor\n",
        "from sklearn.ensemble import RandomForestRegressor\n",
        "n_estimators=400\n",
        "max_depth=35\n",
        "min_samples_split=20\n",
        "max_samples_leaf=2\n",
        "random_forest=RandomForestRegressor(n_estimators=n_estimators,max_depth=max_depth,min_samples_split=min_samples_split)\n",
        "random_forest.fit(x_train,y_train)\n",
        "print_error(x_test,y_test,random_forest)\n",
        "\n"
      ],
      "execution_count": 11,
      "outputs": [
        {
          "output_type": "stream",
          "text": [
            "Mean absolute error: 2590.2042349726776\n",
            "Mean squared error: 879924923.396858\n",
            "Root mean absolute error: 29663.52850550416\n"
          ],
          "name": "stdout"
        },
        {
          "output_type": "stream",
          "text": [
            "/usr/local/lib/python3.7/dist-packages/ipykernel_launcher.py:14: DataConversionWarning: A column-vector y was passed when a 1d array was expected. Please change the shape of y to (n_samples,), for example using ravel().\n",
            "  \n"
          ],
          "name": "stderr"
        },
        {
          "output_type": "stream",
          "text": [
            "Mean absolute error: 3303.603385841778\n",
            "Mean squared error: 630242158.2834159\n",
            "Root mean absolute error: 25104.62424103209\n"
          ],
          "name": "stdout"
        }
      ]
    },
    {
      "cell_type": "code",
      "metadata": {
        "colab": {
          "base_uri": "https://localhost:8080/"
        },
        "id": "5gyGrjNpEtUt",
        "outputId": "a65ce3b4-0e07-4406-b5db-9f5d27422ef8"
      },
      "source": [
        "#artificial neural network\n",
        "import keras\n",
        "from keras.layers import Dense\n",
        "ann=keras.models.Sequential([\n",
        "                             Dense(6,activation=\"relu\",\n",
        "                             input_shape=x_train.shape[1:]),\n",
        "                             Dense(6 , activation=\"relu\"),\n",
        "                             Dense(1)\n",
        "                             ])\n",
        "optimizer=keras.optimizers.Adam()\n",
        "loss=keras.losses.mean_squared_error\n",
        "ann.compile(optimizer=optimizer,loss=loss,metrics=[\"mean_squared_error\"])\n",
        "history=ann.fit(x_train,y_train,epochs=100)\n",
        "ann.summary()\n",
        "print_error(x_test,y_test,ann)"
      ],
      "execution_count": 12,
      "outputs": [
        {
          "output_type": "stream",
          "text": [
            "Epoch 1/100\n",
            "366/366 [==============================] - 14s 1ms/step - loss: 684180301.2555 - mean_squared_error: 684180301.2555\n",
            "Epoch 2/100\n",
            "366/366 [==============================] - 0s 1ms/step - loss: 1141132375.9101 - mean_squared_error: 1141132375.9101\n",
            "Epoch 3/100\n",
            "366/366 [==============================] - 0s 1ms/step - loss: 1107548283.3388 - mean_squared_error: 1107548283.3388\n",
            "Epoch 4/100\n",
            "366/366 [==============================] - 0s 1ms/step - loss: 1075572629.5312 - mean_squared_error: 1075572629.5312\n",
            "Epoch 5/100\n",
            "366/366 [==============================] - 0s 1ms/step - loss: 393165573.6594 - mean_squared_error: 393165573.6594\n",
            "Epoch 6/100\n",
            "366/366 [==============================] - 0s 1ms/step - loss: 635089394.4490 - mean_squared_error: 635089394.4490\n",
            "Epoch 7/100\n",
            "366/366 [==============================] - 0s 1ms/step - loss: 698268741.0281 - mean_squared_error: 698268741.0281\n",
            "Epoch 8/100\n",
            "366/366 [==============================] - 0s 1ms/step - loss: 818013816.2299 - mean_squared_error: 818013816.2299\n",
            "Epoch 9/100\n",
            "366/366 [==============================] - 0s 1ms/step - loss: 736658696.3052 - mean_squared_error: 736658696.3052\n",
            "Epoch 10/100\n",
            "366/366 [==============================] - 0s 1ms/step - loss: 710594349.7022 - mean_squared_error: 710594349.7022\n",
            "Epoch 11/100\n",
            "366/366 [==============================] - 0s 1ms/step - loss: 779669985.7582 - mean_squared_error: 779669985.7582\n",
            "Epoch 12/100\n",
            "366/366 [==============================] - 0s 1ms/step - loss: 547744468.9821 - mean_squared_error: 547744468.9821\n",
            "Epoch 13/100\n",
            "366/366 [==============================] - 0s 1ms/step - loss: 706376256.0657 - mean_squared_error: 706376256.0657\n",
            "Epoch 14/100\n",
            "366/366 [==============================] - 0s 1ms/step - loss: 544401065.3297 - mean_squared_error: 544401065.3297\n",
            "Epoch 15/100\n",
            "366/366 [==============================] - 0s 1ms/step - loss: 240572444.3991 - mean_squared_error: 240572444.3991\n",
            "Epoch 16/100\n",
            "366/366 [==============================] - 0s 1ms/step - loss: 321102560.8992 - mean_squared_error: 321102560.8992\n",
            "Epoch 17/100\n",
            "366/366 [==============================] - 0s 1ms/step - loss: 823434147.8338 - mean_squared_error: 823434147.8338\n",
            "Epoch 18/100\n",
            "366/366 [==============================] - 0s 1ms/step - loss: 601108955.6534 - mean_squared_error: 601108955.6534\n",
            "Epoch 19/100\n",
            "366/366 [==============================] - 0s 1ms/step - loss: 852490926.8229 - mean_squared_error: 852490926.8229\n",
            "Epoch 20/100\n",
            "366/366 [==============================] - 0s 1ms/step - loss: 540218630.8185 - mean_squared_error: 540218630.8185\n",
            "Epoch 21/100\n",
            "366/366 [==============================] - 0s 1ms/step - loss: 856765392.7708 - mean_squared_error: 856765392.7708\n",
            "Epoch 22/100\n",
            "366/366 [==============================] - 0s 1ms/step - loss: 973986257.6649 - mean_squared_error: 973986257.6649\n",
            "Epoch 23/100\n",
            "366/366 [==============================] - 0s 1ms/step - loss: 524459959.5640 - mean_squared_error: 524459959.5640\n",
            "Epoch 24/100\n",
            "366/366 [==============================] - 0s 1ms/step - loss: 771755943.8719 - mean_squared_error: 771755943.8719\n",
            "Epoch 25/100\n",
            "366/366 [==============================] - 0s 1ms/step - loss: 653895609.7827 - mean_squared_error: 653895609.7827\n",
            "Epoch 26/100\n",
            "366/366 [==============================] - 0s 1ms/step - loss: 890473760.6192 - mean_squared_error: 890473760.6192\n",
            "Epoch 27/100\n",
            "366/366 [==============================] - 0s 1ms/step - loss: 329632232.9510 - mean_squared_error: 329632232.9510\n",
            "Epoch 28/100\n",
            "366/366 [==============================] - 0s 1ms/step - loss: 804040448.2289 - mean_squared_error: 804040448.2289\n",
            "Epoch 29/100\n",
            "366/366 [==============================] - 0s 1ms/step - loss: 670102373.4956 - mean_squared_error: 670102373.4956\n",
            "Epoch 30/100\n",
            "366/366 [==============================] - 0s 1ms/step - loss: 707947752.7864 - mean_squared_error: 707947752.7864\n",
            "Epoch 31/100\n",
            "366/366 [==============================] - 0s 1ms/step - loss: 657430157.9510 - mean_squared_error: 657430157.9510\n",
            "Epoch 32/100\n",
            "366/366 [==============================] - 0s 1ms/step - loss: 734626081.2670 - mean_squared_error: 734626081.2670\n",
            "Epoch 33/100\n",
            "366/366 [==============================] - 0s 1ms/step - loss: 555634468.5960 - mean_squared_error: 555634468.5960\n",
            "Epoch 34/100\n",
            "366/366 [==============================] - 0s 1ms/step - loss: 865583418.2936 - mean_squared_error: 865583418.2936\n",
            "Epoch 35/100\n",
            "366/366 [==============================] - 0s 1ms/step - loss: 1023674589.1226 - mean_squared_error: 1023674589.1226\n",
            "Epoch 36/100\n",
            "366/366 [==============================] - 0s 1ms/step - loss: 544108230.4986 - mean_squared_error: 544108230.4986\n",
            "Epoch 37/100\n",
            "366/366 [==============================] - 0s 1ms/step - loss: 1283387913.7575 - mean_squared_error: 1283387913.7575\n",
            "Epoch 38/100\n",
            "366/366 [==============================] - 0s 1ms/step - loss: 454219549.3038 - mean_squared_error: 454219549.3038\n",
            "Epoch 39/100\n",
            "366/366 [==============================] - 0s 1ms/step - loss: 698020654.5831 - mean_squared_error: 698020654.5831\n",
            "Epoch 40/100\n",
            "366/366 [==============================] - 0s 1ms/step - loss: 767521141.2888 - mean_squared_error: 767521141.2888\n",
            "Epoch 41/100\n",
            "366/366 [==============================] - 0s 1ms/step - loss: 553905701.0790 - mean_squared_error: 553905701.0790\n",
            "Epoch 42/100\n",
            "366/366 [==============================] - 0s 1ms/step - loss: 1075208503.8801 - mean_squared_error: 1075208503.8801\n",
            "Epoch 43/100\n",
            "366/366 [==============================] - 0s 1ms/step - loss: 601861518.2411 - mean_squared_error: 601861518.2411\n",
            "Epoch 44/100\n",
            "366/366 [==============================] - 0s 1ms/step - loss: 488629135.4237 - mean_squared_error: 488629135.4237\n",
            "Epoch 45/100\n",
            "366/366 [==============================] - 0s 1ms/step - loss: 702539054.8229 - mean_squared_error: 702539054.8229\n",
            "Epoch 46/100\n",
            "366/366 [==============================] - 0s 1ms/step - loss: 1432914518.7016 - mean_squared_error: 1432914518.7016\n",
            "Epoch 47/100\n",
            "366/366 [==============================] - 0s 1ms/step - loss: 812516103.0545 - mean_squared_error: 812516103.0545\n",
            "Epoch 48/100\n",
            "366/366 [==============================] - 0s 1ms/step - loss: 374125959.3025 - mean_squared_error: 374125959.3025\n",
            "Epoch 49/100\n",
            "366/366 [==============================] - 0s 1ms/step - loss: 527379114.1335 - mean_squared_error: 527379114.1335\n",
            "Epoch 50/100\n",
            "366/366 [==============================] - 0s 1ms/step - loss: 620677913.7302 - mean_squared_error: 620677913.7302\n",
            "Epoch 51/100\n",
            "366/366 [==============================] - 0s 1ms/step - loss: 427436412.6315 - mean_squared_error: 427436412.6315\n",
            "Epoch 52/100\n",
            "366/366 [==============================] - 0s 1ms/step - loss: 780305287.2916 - mean_squared_error: 780305287.2916\n",
            "Epoch 53/100\n",
            "366/366 [==============================] - 0s 1ms/step - loss: 580279530.6792 - mean_squared_error: 580279530.6792\n",
            "Epoch 54/100\n",
            "366/366 [==============================] - 0s 1ms/step - loss: 1192563485.4734 - mean_squared_error: 1192563485.4734\n",
            "Epoch 55/100\n",
            "366/366 [==============================] - 0s 1ms/step - loss: 451351202.2793 - mean_squared_error: 451351202.2793\n",
            "Epoch 56/100\n",
            "366/366 [==============================] - 0s 1ms/step - loss: 1510562323.4401 - mean_squared_error: 1510562323.4401\n",
            "Epoch 57/100\n",
            "366/366 [==============================] - 0s 1ms/step - loss: 813282479.9871 - mean_squared_error: 813282479.9871\n",
            "Epoch 58/100\n",
            "366/366 [==============================] - 0s 1ms/step - loss: 876744271.6131 - mean_squared_error: 876744271.6131\n",
            "Epoch 59/100\n",
            "366/366 [==============================] - 0s 1ms/step - loss: 992131728.4360 - mean_squared_error: 992131728.4360\n",
            "Epoch 60/100\n",
            "366/366 [==============================] - 0s 1ms/step - loss: 377426750.7936 - mean_squared_error: 377426750.7936\n",
            "Epoch 61/100\n",
            "366/366 [==============================] - 0s 1ms/step - loss: 570872168.2350 - mean_squared_error: 570872168.2350\n",
            "Epoch 62/100\n",
            "366/366 [==============================] - 0s 1ms/step - loss: 393329328.4905 - mean_squared_error: 393329328.4905\n",
            "Epoch 63/100\n",
            "366/366 [==============================] - 0s 1ms/step - loss: 476857273.0688 - mean_squared_error: 476857273.0688\n",
            "Epoch 64/100\n",
            "366/366 [==============================] - 0s 1ms/step - loss: 1048253330.4114 - mean_squared_error: 1048253330.4114\n",
            "Epoch 65/100\n",
            "366/366 [==============================] - 0s 1ms/step - loss: 828473386.4632 - mean_squared_error: 828473386.4632\n",
            "Epoch 66/100\n",
            "366/366 [==============================] - 0s 1ms/step - loss: 941955363.3406 - mean_squared_error: 941955363.3406\n",
            "Epoch 67/100\n",
            "366/366 [==============================] - 0s 1ms/step - loss: 948602406.1199 - mean_squared_error: 948602406.1199\n",
            "Epoch 68/100\n",
            "366/366 [==============================] - 0s 1ms/step - loss: 514160792.7234 - mean_squared_error: 514160792.7234\n",
            "Epoch 69/100\n",
            "366/366 [==============================] - 0s 1ms/step - loss: 816159829.0940 - mean_squared_error: 816159829.0940\n",
            "Epoch 70/100\n",
            "366/366 [==============================] - 0s 1ms/step - loss: 1377598689.3515 - mean_squared_error: 1377598689.3515\n",
            "Epoch 71/100\n",
            "366/366 [==============================] - 0s 1ms/step - loss: 887228788.3597 - mean_squared_error: 887228788.3597\n",
            "Epoch 72/100\n",
            "366/366 [==============================] - 0s 1ms/step - loss: 466632020.9121 - mean_squared_error: 466632020.9121\n",
            "Epoch 73/100\n",
            "366/366 [==============================] - 0s 1ms/step - loss: 704612266.8522 - mean_squared_error: 704612266.8522\n",
            "Epoch 74/100\n",
            "366/366 [==============================] - 0s 1ms/step - loss: 819479831.7234 - mean_squared_error: 819479831.7234\n",
            "Epoch 75/100\n",
            "366/366 [==============================] - 0s 1ms/step - loss: 447131636.8174 - mean_squared_error: 447131636.8174\n",
            "Epoch 76/100\n",
            "366/366 [==============================] - 0s 1ms/step - loss: 1087101501.2316 - mean_squared_error: 1087101501.2316\n",
            "Epoch 77/100\n",
            "366/366 [==============================] - 0s 1ms/step - loss: 718749843.2262 - mean_squared_error: 718749843.2262\n",
            "Epoch 78/100\n",
            "366/366 [==============================] - 0s 1ms/step - loss: 475799349.7984 - mean_squared_error: 475799349.7984\n",
            "Epoch 79/100\n",
            "366/366 [==============================] - 0s 1ms/step - loss: 889745589.5027 - mean_squared_error: 889745589.5027\n",
            "Epoch 80/100\n",
            "366/366 [==============================] - 0s 1ms/step - loss: 850147890.5572 - mean_squared_error: 850147890.5572\n",
            "Epoch 81/100\n",
            "366/366 [==============================] - 0s 1ms/step - loss: 858236978.4700 - mean_squared_error: 858236978.4700\n",
            "Epoch 82/100\n",
            "366/366 [==============================] - 0s 1ms/step - loss: 676168630.1471 - mean_squared_error: 676168630.1471\n",
            "Epoch 83/100\n",
            "366/366 [==============================] - 0s 1ms/step - loss: 1138016654.0531 - mean_squared_error: 1138016654.0531\n",
            "Epoch 84/100\n",
            "366/366 [==============================] - 0s 1ms/step - loss: 1486884635.4605 - mean_squared_error: 1486884635.4605\n",
            "Epoch 85/100\n",
            "366/366 [==============================] - 0s 1ms/step - loss: 670562656.1308 - mean_squared_error: 670562656.1308\n",
            "Epoch 86/100\n",
            "366/366 [==============================] - 0s 1ms/step - loss: 454781864.3086 - mean_squared_error: 454781864.3086\n",
            "Epoch 87/100\n",
            "366/366 [==============================] - 0s 1ms/step - loss: 546216442.0143 - mean_squared_error: 546216442.0143\n",
            "Epoch 88/100\n",
            "366/366 [==============================] - 0s 1ms/step - loss: 512801671.7602 - mean_squared_error: 512801671.7602\n",
            "Epoch 89/100\n",
            "366/366 [==============================] - 0s 1ms/step - loss: 590905708.5150 - mean_squared_error: 590905708.5150\n",
            "Epoch 90/100\n",
            "366/366 [==============================] - 0s 1ms/step - loss: 1122970860.6608 - mean_squared_error: 1122970860.6608\n",
            "Epoch 91/100\n",
            "366/366 [==============================] - 0s 1ms/step - loss: 563457553.7398 - mean_squared_error: 563457553.7398\n",
            "Epoch 92/100\n",
            "366/366 [==============================] - 0s 1ms/step - loss: 302595006.4462 - mean_squared_error: 302595006.4462\n",
            "Epoch 93/100\n",
            "366/366 [==============================] - 0s 1ms/step - loss: 526984954.1649 - mean_squared_error: 526984954.1649\n",
            "Epoch 94/100\n",
            "366/366 [==============================] - 0s 1ms/step - loss: 464374259.4278 - mean_squared_error: 464374259.4278\n",
            "Epoch 95/100\n",
            "366/366 [==============================] - 0s 1ms/step - loss: 739802265.1117 - mean_squared_error: 739802265.1117\n",
            "Epoch 96/100\n",
            "366/366 [==============================] - 0s 1ms/step - loss: 1015417671.3263 - mean_squared_error: 1015417671.3263\n",
            "Epoch 97/100\n",
            "366/366 [==============================] - 0s 1ms/step - loss: 1074560560.4237 - mean_squared_error: 1074560560.4237\n",
            "Epoch 98/100\n",
            "366/366 [==============================] - 0s 1ms/step - loss: 1041391502.4217 - mean_squared_error: 1041391502.4217\n",
            "Epoch 99/100\n",
            "366/366 [==============================] - 0s 1ms/step - loss: 425795796.0054 - mean_squared_error: 425795796.0054\n",
            "Epoch 100/100\n",
            "366/366 [==============================] - 0s 1ms/step - loss: 681618969.7548 - mean_squared_error: 681618969.7548\n",
            "Model: \"sequential\"\n",
            "_________________________________________________________________\n",
            "Layer (type)                 Output Shape              Param #   \n",
            "=================================================================\n",
            "dense (Dense)                (None, 6)                 48        \n",
            "_________________________________________________________________\n",
            "dense_1 (Dense)              (None, 6)                 42        \n",
            "_________________________________________________________________\n",
            "dense_2 (Dense)              (None, 1)                 7         \n",
            "=================================================================\n",
            "Total params: 97\n",
            "Trainable params: 97\n",
            "Non-trainable params: 0\n",
            "_________________________________________________________________\n",
            "Mean absolute error: 3237.265301653352\n",
            "Mean squared error: 829321524.85319\n",
            "Root mean absolute error: 28797.943066357882\n"
          ],
          "name": "stdout"
        }
      ]
    },
    {
      "cell_type": "code",
      "metadata": {
        "id": "e6DzUqzVEtP_"
      },
      "source": [
        "# saving scikitlearn model\n",
        "import joblib\n",
        "joblib.dump(decision_tree,\"youtubeadviews.pkl\")\n",
        "\n",
        "# saving artificial neural network model\n",
        "ann.save(\"ann_youtubeadview.h5\")"
      ],
      "execution_count": 37,
      "outputs": []
    },
    {
      "cell_type": "code",
      "metadata": {
        "id": "hPOzxsIzEtOq"
      },
      "source": [
        "data_test = pd.read_csv(\"/content/test.csv\")"
      ],
      "execution_count": 38,
      "outputs": []
    },
    {
      "cell_type": "code",
      "metadata": {
        "colab": {
          "base_uri": "https://localhost:8080/",
          "height": 204
        },
        "id": "DLNfXCXEEtJk",
        "outputId": "5ec0857c-6724-4deb-c1fc-029d5d9b4002"
      },
      "source": [
        "data_test.head()"
      ],
      "execution_count": 39,
      "outputs": [
        {
          "output_type": "execute_result",
          "data": {
            "text/html": [
              "<div>\n",
              "<style scoped>\n",
              "    .dataframe tbody tr th:only-of-type {\n",
              "        vertical-align: middle;\n",
              "    }\n",
              "\n",
              "    .dataframe tbody tr th {\n",
              "        vertical-align: top;\n",
              "    }\n",
              "\n",
              "    .dataframe thead th {\n",
              "        text-align: right;\n",
              "    }\n",
              "</style>\n",
              "<table border=\"1\" class=\"dataframe\">\n",
              "  <thead>\n",
              "    <tr style=\"text-align: right;\">\n",
              "      <th></th>\n",
              "      <th>vidid</th>\n",
              "      <th>views</th>\n",
              "      <th>likes</th>\n",
              "      <th>dislikes</th>\n",
              "      <th>comment</th>\n",
              "      <th>published</th>\n",
              "      <th>duration</th>\n",
              "      <th>category</th>\n",
              "    </tr>\n",
              "  </thead>\n",
              "  <tbody>\n",
              "    <tr>\n",
              "      <th>0</th>\n",
              "      <td>VID_1054</td>\n",
              "      <td>440238</td>\n",
              "      <td>6153</td>\n",
              "      <td>218</td>\n",
              "      <td>1377</td>\n",
              "      <td>2017-02-18</td>\n",
              "      <td>PT7M29S</td>\n",
              "      <td>B</td>\n",
              "    </tr>\n",
              "    <tr>\n",
              "      <th>1</th>\n",
              "      <td>VID_18629</td>\n",
              "      <td>1040132</td>\n",
              "      <td>8171</td>\n",
              "      <td>340</td>\n",
              "      <td>1047</td>\n",
              "      <td>2016-06-28</td>\n",
              "      <td>PT6M29S</td>\n",
              "      <td>F</td>\n",
              "    </tr>\n",
              "    <tr>\n",
              "      <th>2</th>\n",
              "      <td>VID_13967</td>\n",
              "      <td>28534</td>\n",
              "      <td>31</td>\n",
              "      <td>11</td>\n",
              "      <td>1</td>\n",
              "      <td>2014-03-10</td>\n",
              "      <td>PT37M54S</td>\n",
              "      <td>D</td>\n",
              "    </tr>\n",
              "    <tr>\n",
              "      <th>3</th>\n",
              "      <td>VID_19442</td>\n",
              "      <td>1316715</td>\n",
              "      <td>2284</td>\n",
              "      <td>250</td>\n",
              "      <td>274</td>\n",
              "      <td>2010-06-05</td>\n",
              "      <td>PT9M55S</td>\n",
              "      <td>G</td>\n",
              "    </tr>\n",
              "    <tr>\n",
              "      <th>4</th>\n",
              "      <td>VID_770</td>\n",
              "      <td>1893173</td>\n",
              "      <td>2519</td>\n",
              "      <td>225</td>\n",
              "      <td>116</td>\n",
              "      <td>2016-09-03</td>\n",
              "      <td>PT3M8S</td>\n",
              "      <td>B</td>\n",
              "    </tr>\n",
              "  </tbody>\n",
              "</table>\n",
              "</div>"
            ],
            "text/plain": [
              "       vidid    views likes dislikes comment   published  duration category\n",
              "0   VID_1054   440238  6153      218    1377  2017-02-18   PT7M29S        B\n",
              "1  VID_18629  1040132  8171      340    1047  2016-06-28   PT6M29S        F\n",
              "2  VID_13967    28534    31       11       1  2014-03-10  PT37M54S        D\n",
              "3  VID_19442  1316715  2284      250     274  2010-06-05   PT9M55S        G\n",
              "4    VID_770  1893173  2519      225     116  2016-09-03    PT3M8S        B"
            ]
          },
          "metadata": {
            "tags": []
          },
          "execution_count": 39
        }
      ]
    },
    {
      "cell_type": "code",
      "metadata": {
        "id": "KNf15TsKEtIV"
      },
      "source": [
        "from keras.models import load_model\n",
        "model = load_model(\"/content/ann_youtubeadview.h5\")"
      ],
      "execution_count": 40,
      "outputs": []
    },
    {
      "cell_type": "code",
      "metadata": {
        "id": "NdMHA0vIJ9O4"
      },
      "source": [
        "import joblib\n",
        "modelss=joblib.load(\"youtubeadviews.pkl\")"
      ],
      "execution_count": 41,
      "outputs": []
    },
    {
      "cell_type": "code",
      "metadata": {
        "id": "Iut2JmdXEtDZ"
      },
      "source": [
        "# Removing character \"F\" present in data\n",
        "data_test=data_test[data_test.views!='F']\n",
        "data_test=data_test[data_test.likes!='F']\n",
        "data_test=data_test[data_test.dislikes!='F']\n",
        "data_test=data_test[data_test.comment!='F']"
      ],
      "execution_count": 42,
      "outputs": []
    },
    {
      "cell_type": "code",
      "metadata": {
        "colab": {
          "base_uri": "https://localhost:8080/",
          "height": 204
        },
        "id": "3qQnLrVgEtCH",
        "outputId": "7bbe8a1c-34c7-4de4-8e89-6ef082e07cb2"
      },
      "source": [
        "# Assigning each category a number for Category feature\n",
        "category={'A': 1,'B':2,'C':3,'D':4,'E':5,'F':6,'G':7,'H':8}\n",
        "data_test[\"category\"]=data_test[\"category\"].map(category)\n",
        "data_test.head()"
      ],
      "execution_count": 43,
      "outputs": [
        {
          "output_type": "execute_result",
          "data": {
            "text/html": [
              "<div>\n",
              "<style scoped>\n",
              "    .dataframe tbody tr th:only-of-type {\n",
              "        vertical-align: middle;\n",
              "    }\n",
              "\n",
              "    .dataframe tbody tr th {\n",
              "        vertical-align: top;\n",
              "    }\n",
              "\n",
              "    .dataframe thead th {\n",
              "        text-align: right;\n",
              "    }\n",
              "</style>\n",
              "<table border=\"1\" class=\"dataframe\">\n",
              "  <thead>\n",
              "    <tr style=\"text-align: right;\">\n",
              "      <th></th>\n",
              "      <th>vidid</th>\n",
              "      <th>views</th>\n",
              "      <th>likes</th>\n",
              "      <th>dislikes</th>\n",
              "      <th>comment</th>\n",
              "      <th>published</th>\n",
              "      <th>duration</th>\n",
              "      <th>category</th>\n",
              "    </tr>\n",
              "  </thead>\n",
              "  <tbody>\n",
              "    <tr>\n",
              "      <th>0</th>\n",
              "      <td>VID_1054</td>\n",
              "      <td>440238</td>\n",
              "      <td>6153</td>\n",
              "      <td>218</td>\n",
              "      <td>1377</td>\n",
              "      <td>2017-02-18</td>\n",
              "      <td>PT7M29S</td>\n",
              "      <td>2</td>\n",
              "    </tr>\n",
              "    <tr>\n",
              "      <th>1</th>\n",
              "      <td>VID_18629</td>\n",
              "      <td>1040132</td>\n",
              "      <td>8171</td>\n",
              "      <td>340</td>\n",
              "      <td>1047</td>\n",
              "      <td>2016-06-28</td>\n",
              "      <td>PT6M29S</td>\n",
              "      <td>6</td>\n",
              "    </tr>\n",
              "    <tr>\n",
              "      <th>2</th>\n",
              "      <td>VID_13967</td>\n",
              "      <td>28534</td>\n",
              "      <td>31</td>\n",
              "      <td>11</td>\n",
              "      <td>1</td>\n",
              "      <td>2014-03-10</td>\n",
              "      <td>PT37M54S</td>\n",
              "      <td>4</td>\n",
              "    </tr>\n",
              "    <tr>\n",
              "      <th>3</th>\n",
              "      <td>VID_19442</td>\n",
              "      <td>1316715</td>\n",
              "      <td>2284</td>\n",
              "      <td>250</td>\n",
              "      <td>274</td>\n",
              "      <td>2010-06-05</td>\n",
              "      <td>PT9M55S</td>\n",
              "      <td>7</td>\n",
              "    </tr>\n",
              "    <tr>\n",
              "      <th>4</th>\n",
              "      <td>VID_770</td>\n",
              "      <td>1893173</td>\n",
              "      <td>2519</td>\n",
              "      <td>225</td>\n",
              "      <td>116</td>\n",
              "      <td>2016-09-03</td>\n",
              "      <td>PT3M8S</td>\n",
              "      <td>2</td>\n",
              "    </tr>\n",
              "  </tbody>\n",
              "</table>\n",
              "</div>"
            ],
            "text/plain": [
              "       vidid    views likes dislikes comment   published  duration  category\n",
              "0   VID_1054   440238  6153      218    1377  2017-02-18   PT7M29S         2\n",
              "1  VID_18629  1040132  8171      340    1047  2016-06-28   PT6M29S         6\n",
              "2  VID_13967    28534    31       11       1  2014-03-10  PT37M54S         4\n",
              "3  VID_19442  1316715  2284      250     274  2010-06-05   PT9M55S         7\n",
              "4    VID_770  1893173  2519      225     116  2016-09-03    PT3M8S         2"
            ]
          },
          "metadata": {
            "tags": []
          },
          "execution_count": 43
        }
      ]
    },
    {
      "cell_type": "code",
      "metadata": {
        "colab": {
          "base_uri": "https://localhost:8080/",
          "height": 204
        },
        "id": "b34BvR0OEs9X",
        "outputId": "430b79fc-8fd7-4b21-a784-fa2bfa828eab"
      },
      "source": [
        "# Convert values to integers for views, likes, comments, dislikes and adview\n",
        "data_test[\"views\"] = pd.to_numeric(data_test[\"views\"])\n",
        "data_test[\"comment\"] = pd.to_numeric(data_test[\"comment\"])\n",
        "data_test[\"likes\"] = pd.to_numeric(data_test[\"likes\"])\n",
        "data_test[\"dislikes\"] = pd.to_numeric(data_test[\"dislikes\"])\n",
        "column_vidid=data_test['vidid']\n",
        "\n",
        "# Endoding features like Category, Duration, Vidid\n",
        "from sklearn.preprocessing import LabelEncoder\n",
        "data_test['duration']=LabelEncoder().fit_transform(data_test['duration'])\n",
        "data_test['vidid']=LabelEncoder().fit_transform(data_test['vidid'])\n",
        "data_test['published']=LabelEncoder().fit_transform(data_test['published'])\n",
        "data_test.head()"
      ],
      "execution_count": 44,
      "outputs": [
        {
          "output_type": "execute_result",
          "data": {
            "text/html": [
              "<div>\n",
              "<style scoped>\n",
              "    .dataframe tbody tr th:only-of-type {\n",
              "        vertical-align: middle;\n",
              "    }\n",
              "\n",
              "    .dataframe tbody tr th {\n",
              "        vertical-align: top;\n",
              "    }\n",
              "\n",
              "    .dataframe thead th {\n",
              "        text-align: right;\n",
              "    }\n",
              "</style>\n",
              "<table border=\"1\" class=\"dataframe\">\n",
              "  <thead>\n",
              "    <tr style=\"text-align: right;\">\n",
              "      <th></th>\n",
              "      <th>vidid</th>\n",
              "      <th>views</th>\n",
              "      <th>likes</th>\n",
              "      <th>dislikes</th>\n",
              "      <th>comment</th>\n",
              "      <th>published</th>\n",
              "      <th>duration</th>\n",
              "      <th>category</th>\n",
              "    </tr>\n",
              "  </thead>\n",
              "  <tbody>\n",
              "    <tr>\n",
              "      <th>0</th>\n",
              "      <td>231</td>\n",
              "      <td>440238</td>\n",
              "      <td>6153</td>\n",
              "      <td>218</td>\n",
              "      <td>1377</td>\n",
              "      <td>2053</td>\n",
              "      <td>2115</td>\n",
              "      <td>2</td>\n",
              "    </tr>\n",
              "    <tr>\n",
              "      <th>1</th>\n",
              "      <td>3444</td>\n",
              "      <td>1040132</td>\n",
              "      <td>8171</td>\n",
              "      <td>340</td>\n",
              "      <td>1047</td>\n",
              "      <td>1825</td>\n",
              "      <td>2055</td>\n",
              "      <td>6</td>\n",
              "    </tr>\n",
              "    <tr>\n",
              "      <th>2</th>\n",
              "      <td>1593</td>\n",
              "      <td>28534</td>\n",
              "      <td>31</td>\n",
              "      <td>11</td>\n",
              "      <td>1</td>\n",
              "      <td>1009</td>\n",
              "      <td>1506</td>\n",
              "      <td>4</td>\n",
              "    </tr>\n",
              "    <tr>\n",
              "      <th>3</th>\n",
              "      <td>3775</td>\n",
              "      <td>1316715</td>\n",
              "      <td>2284</td>\n",
              "      <td>250</td>\n",
              "      <td>274</td>\n",
              "      <td>116</td>\n",
              "      <td>2265</td>\n",
              "      <td>7</td>\n",
              "    </tr>\n",
              "    <tr>\n",
              "      <th>4</th>\n",
              "      <td>7644</td>\n",
              "      <td>1893173</td>\n",
              "      <td>2519</td>\n",
              "      <td>225</td>\n",
              "      <td>116</td>\n",
              "      <td>1892</td>\n",
              "      <td>1625</td>\n",
              "      <td>2</td>\n",
              "    </tr>\n",
              "  </tbody>\n",
              "</table>\n",
              "</div>"
            ],
            "text/plain": [
              "   vidid    views  likes  dislikes  comment  published  duration  category\n",
              "0    231   440238   6153       218     1377       2053      2115         2\n",
              "1   3444  1040132   8171       340     1047       1825      2055         6\n",
              "2   1593    28534     31        11        1       1009      1506         4\n",
              "3   3775  1316715   2284       250      274        116      2265         7\n",
              "4   7644  1893173   2519       225      116       1892      1625         2"
            ]
          },
          "metadata": {
            "tags": []
          },
          "execution_count": 44
        }
      ]
    },
    {
      "cell_type": "code",
      "metadata": {
        "colab": {
          "base_uri": "https://localhost:8080/",
          "height": 204
        },
        "id": "ecMeH1yuEs8K",
        "outputId": "6f3e04d2-6cff-4ab9-91cf-98fedadc9d34"
      },
      "source": [
        "# Convert Time_in_sec for duration\n",
        "import datetime\n",
        "import time\n",
        "def checki(x):\n",
        "  y = x[2:]\n",
        "  h = ''\n",
        "  m = ''\n",
        "  s = ''\n",
        "  mm = ''\n",
        "  P = ['H','M','S']\n",
        "  for i in y:\n",
        "    if i not in P:\n",
        "      mm+=i\n",
        "    else:\n",
        "      if(i==\"H\"):\n",
        "        h = mm\n",
        "        mm = ''\n",
        "      elif(i == \"M\"):\n",
        "        m = mm\n",
        "        mm = ''\n",
        "      else:\n",
        "        s = mm\n",
        "        mm = ''\n",
        "  if(h==''):\n",
        "    h = '00'\n",
        "  if(m == ''):\n",
        "    m = '00'\n",
        "  if(s==''):\n",
        "    s='00'\n",
        "  bp = h+':'+m+':'+s\n",
        "  return bp\n",
        "\n",
        "train=pd.read_csv(\"test.csv\")\n",
        "mp = pd.read_csv(\"test.csv\")[\"duration\"]\n",
        "time = mp.apply(checki)\n",
        "\n",
        "def func_sec(time_string):\n",
        "  h, m, s = time_string.split(':')\n",
        "  return int(h) * 3600 + int(m) * 60 + int(s)\n",
        "\n",
        "time1=time.apply(func_sec)\n",
        "\n",
        "data_test[\"duration\"]=time1\n",
        "data_test.head()"
      ],
      "execution_count": 45,
      "outputs": [
        {
          "output_type": "execute_result",
          "data": {
            "text/html": [
              "<div>\n",
              "<style scoped>\n",
              "    .dataframe tbody tr th:only-of-type {\n",
              "        vertical-align: middle;\n",
              "    }\n",
              "\n",
              "    .dataframe tbody tr th {\n",
              "        vertical-align: top;\n",
              "    }\n",
              "\n",
              "    .dataframe thead th {\n",
              "        text-align: right;\n",
              "    }\n",
              "</style>\n",
              "<table border=\"1\" class=\"dataframe\">\n",
              "  <thead>\n",
              "    <tr style=\"text-align: right;\">\n",
              "      <th></th>\n",
              "      <th>vidid</th>\n",
              "      <th>views</th>\n",
              "      <th>likes</th>\n",
              "      <th>dislikes</th>\n",
              "      <th>comment</th>\n",
              "      <th>published</th>\n",
              "      <th>duration</th>\n",
              "      <th>category</th>\n",
              "    </tr>\n",
              "  </thead>\n",
              "  <tbody>\n",
              "    <tr>\n",
              "      <th>0</th>\n",
              "      <td>231</td>\n",
              "      <td>440238</td>\n",
              "      <td>6153</td>\n",
              "      <td>218</td>\n",
              "      <td>1377</td>\n",
              "      <td>2053</td>\n",
              "      <td>449</td>\n",
              "      <td>2</td>\n",
              "    </tr>\n",
              "    <tr>\n",
              "      <th>1</th>\n",
              "      <td>3444</td>\n",
              "      <td>1040132</td>\n",
              "      <td>8171</td>\n",
              "      <td>340</td>\n",
              "      <td>1047</td>\n",
              "      <td>1825</td>\n",
              "      <td>389</td>\n",
              "      <td>6</td>\n",
              "    </tr>\n",
              "    <tr>\n",
              "      <th>2</th>\n",
              "      <td>1593</td>\n",
              "      <td>28534</td>\n",
              "      <td>31</td>\n",
              "      <td>11</td>\n",
              "      <td>1</td>\n",
              "      <td>1009</td>\n",
              "      <td>2274</td>\n",
              "      <td>4</td>\n",
              "    </tr>\n",
              "    <tr>\n",
              "      <th>3</th>\n",
              "      <td>3775</td>\n",
              "      <td>1316715</td>\n",
              "      <td>2284</td>\n",
              "      <td>250</td>\n",
              "      <td>274</td>\n",
              "      <td>116</td>\n",
              "      <td>595</td>\n",
              "      <td>7</td>\n",
              "    </tr>\n",
              "    <tr>\n",
              "      <th>4</th>\n",
              "      <td>7644</td>\n",
              "      <td>1893173</td>\n",
              "      <td>2519</td>\n",
              "      <td>225</td>\n",
              "      <td>116</td>\n",
              "      <td>1892</td>\n",
              "      <td>188</td>\n",
              "      <td>2</td>\n",
              "    </tr>\n",
              "  </tbody>\n",
              "</table>\n",
              "</div>"
            ],
            "text/plain": [
              "   vidid    views  likes  dislikes  comment  published  duration  category\n",
              "0    231   440238   6153       218     1377       2053       449         2\n",
              "1   3444  1040132   8171       340     1047       1825       389         6\n",
              "2   1593    28534     31        11        1       1009      2274         4\n",
              "3   3775  1316715   2284       250      274        116       595         7\n",
              "4   7644  1893173   2519       225      116       1892       188         2"
            ]
          },
          "metadata": {
            "tags": []
          },
          "execution_count": 45
        }
      ]
    },
    {
      "cell_type": "code",
      "metadata": {
        "colab": {
          "base_uri": "https://localhost:8080/",
          "height": 204
        },
        "id": "BszmkCmNEs3k",
        "outputId": "1ee20534-47e0-4976-e423-1732f3bc7f7b"
      },
      "source": [
        "data_test=data_test.drop([\"vidid\"],axis=1)\n",
        "data_test.head()"
      ],
      "execution_count": 46,
      "outputs": [
        {
          "output_type": "execute_result",
          "data": {
            "text/html": [
              "<div>\n",
              "<style scoped>\n",
              "    .dataframe tbody tr th:only-of-type {\n",
              "        vertical-align: middle;\n",
              "    }\n",
              "\n",
              "    .dataframe tbody tr th {\n",
              "        vertical-align: top;\n",
              "    }\n",
              "\n",
              "    .dataframe thead th {\n",
              "        text-align: right;\n",
              "    }\n",
              "</style>\n",
              "<table border=\"1\" class=\"dataframe\">\n",
              "  <thead>\n",
              "    <tr style=\"text-align: right;\">\n",
              "      <th></th>\n",
              "      <th>views</th>\n",
              "      <th>likes</th>\n",
              "      <th>dislikes</th>\n",
              "      <th>comment</th>\n",
              "      <th>published</th>\n",
              "      <th>duration</th>\n",
              "      <th>category</th>\n",
              "    </tr>\n",
              "  </thead>\n",
              "  <tbody>\n",
              "    <tr>\n",
              "      <th>0</th>\n",
              "      <td>440238</td>\n",
              "      <td>6153</td>\n",
              "      <td>218</td>\n",
              "      <td>1377</td>\n",
              "      <td>2053</td>\n",
              "      <td>449</td>\n",
              "      <td>2</td>\n",
              "    </tr>\n",
              "    <tr>\n",
              "      <th>1</th>\n",
              "      <td>1040132</td>\n",
              "      <td>8171</td>\n",
              "      <td>340</td>\n",
              "      <td>1047</td>\n",
              "      <td>1825</td>\n",
              "      <td>389</td>\n",
              "      <td>6</td>\n",
              "    </tr>\n",
              "    <tr>\n",
              "      <th>2</th>\n",
              "      <td>28534</td>\n",
              "      <td>31</td>\n",
              "      <td>11</td>\n",
              "      <td>1</td>\n",
              "      <td>1009</td>\n",
              "      <td>2274</td>\n",
              "      <td>4</td>\n",
              "    </tr>\n",
              "    <tr>\n",
              "      <th>3</th>\n",
              "      <td>1316715</td>\n",
              "      <td>2284</td>\n",
              "      <td>250</td>\n",
              "      <td>274</td>\n",
              "      <td>116</td>\n",
              "      <td>595</td>\n",
              "      <td>7</td>\n",
              "    </tr>\n",
              "    <tr>\n",
              "      <th>4</th>\n",
              "      <td>1893173</td>\n",
              "      <td>2519</td>\n",
              "      <td>225</td>\n",
              "      <td>116</td>\n",
              "      <td>1892</td>\n",
              "      <td>188</td>\n",
              "      <td>2</td>\n",
              "    </tr>\n",
              "  </tbody>\n",
              "</table>\n",
              "</div>"
            ],
            "text/plain": [
              "     views  likes  dislikes  comment  published  duration  category\n",
              "0   440238   6153       218     1377       2053       449         2\n",
              "1  1040132   8171       340     1047       1825       389         6\n",
              "2    28534     31        11        1       1009      2274         4\n",
              "3  1316715   2284       250      274        116       595         7\n",
              "4  1893173   2519       225      116       1892       188         2"
            ]
          },
          "metadata": {
            "tags": []
          },
          "execution_count": 46
        }
      ]
    },
    {
      "cell_type": "code",
      "metadata": {
        "id": "vR-TMyrZEs2Q"
      },
      "source": [
        "from sklearn.preprocessing import MinMaxScaler\n",
        "scaler = MinMaxScaler()\n",
        "X_test = data_test\n",
        "X_test=scaler.fit_transform(X_test)"
      ],
      "execution_count": 47,
      "outputs": []
    },
    {
      "cell_type": "code",
      "metadata": {
        "id": "f2tWJYnQEsyc"
      },
      "source": [
        "prediction = model.predict(X_test)"
      ],
      "execution_count": 48,
      "outputs": []
    },
    {
      "cell_type": "code",
      "metadata": {
        "colab": {
          "base_uri": "https://localhost:8080/"
        },
        "id": "i5MgDVQSEsww",
        "outputId": "a32acca7-c6fa-4b43-9221-11eff1b77739"
      },
      "source": [
        "prediction=pd.DataFrame(prediction)\n",
        "prediction.info()"
      ],
      "execution_count": 49,
      "outputs": [
        {
          "output_type": "stream",
          "text": [
            "<class 'pandas.core.frame.DataFrame'>\n",
            "RangeIndex: 8549 entries, 0 to 8548\n",
            "Data columns (total 1 columns):\n",
            " #   Column  Non-Null Count  Dtype  \n",
            "---  ------  --------------  -----  \n",
            " 0   0       8549 non-null   float32\n",
            "dtypes: float32(1)\n",
            "memory usage: 33.5 KB\n"
          ],
          "name": "stdout"
        }
      ]
    },
    {
      "cell_type": "code",
      "metadata": {
        "id": "F_UyfnTFEssr"
      },
      "source": [
        "prediction = prediction.rename(columns={0: \"Adview\"})"
      ],
      "execution_count": 50,
      "outputs": []
    },
    {
      "cell_type": "code",
      "metadata": {
        "colab": {
          "base_uri": "https://localhost:8080/",
          "height": 204
        },
        "id": "2AfIes5NEsrA",
        "outputId": "ece4a9cb-293f-47af-8d05-6d3a9afa7f4a"
      },
      "source": [
        "prediction.head()"
      ],
      "execution_count": 51,
      "outputs": [
        {
          "output_type": "execute_result",
          "data": {
            "text/html": [
              "<div>\n",
              "<style scoped>\n",
              "    .dataframe tbody tr th:only-of-type {\n",
              "        vertical-align: middle;\n",
              "    }\n",
              "\n",
              "    .dataframe tbody tr th {\n",
              "        vertical-align: top;\n",
              "    }\n",
              "\n",
              "    .dataframe thead th {\n",
              "        text-align: right;\n",
              "    }\n",
              "</style>\n",
              "<table border=\"1\" class=\"dataframe\">\n",
              "  <thead>\n",
              "    <tr style=\"text-align: right;\">\n",
              "      <th></th>\n",
              "      <th>Adview</th>\n",
              "    </tr>\n",
              "  </thead>\n",
              "  <tbody>\n",
              "    <tr>\n",
              "      <th>0</th>\n",
              "      <td>2260.661133</td>\n",
              "    </tr>\n",
              "    <tr>\n",
              "      <th>1</th>\n",
              "      <td>2379.806885</td>\n",
              "    </tr>\n",
              "    <tr>\n",
              "      <th>2</th>\n",
              "      <td>1250.953247</td>\n",
              "    </tr>\n",
              "    <tr>\n",
              "      <th>3</th>\n",
              "      <td>1098.456177</td>\n",
              "    </tr>\n",
              "    <tr>\n",
              "      <th>4</th>\n",
              "      <td>2177.107910</td>\n",
              "    </tr>\n",
              "  </tbody>\n",
              "</table>\n",
              "</div>"
            ],
            "text/plain": [
              "        Adview\n",
              "0  2260.661133\n",
              "1  2379.806885\n",
              "2  1250.953247\n",
              "3  1098.456177\n",
              "4  2177.107910"
            ]
          },
          "metadata": {
            "tags": []
          },
          "execution_count": 51
        }
      ]
    },
    {
      "cell_type": "code",
      "metadata": {
        "id": "GK9fCwrqEsmU"
      },
      "source": [
        "\n",
        "prediction.to_csv('PredictAdview.csv')"
      ],
      "execution_count": 52,
      "outputs": []
    },
    {
      "cell_type": "code",
      "metadata": {
        "id": "CGH0Gkt2EslJ"
      },
      "source": [
        "pred=modelss.predict(X_test)"
      ],
      "execution_count": 53,
      "outputs": []
    },
    {
      "cell_type": "code",
      "metadata": {
        "colab": {
          "base_uri": "https://localhost:8080/"
        },
        "id": "AkzsSUV9EsdH",
        "outputId": "4884447d-7de6-422a-afc4-03ee035a9a40"
      },
      "source": [
        "pred=pd.DataFrame(pred)\n",
        "pred.info()"
      ],
      "execution_count": 54,
      "outputs": [
        {
          "output_type": "stream",
          "text": [
            "<class 'pandas.core.frame.DataFrame'>\n",
            "RangeIndex: 8549 entries, 0 to 8548\n",
            "Data columns (total 1 columns):\n",
            " #   Column  Non-Null Count  Dtype  \n",
            "---  ------  --------------  -----  \n",
            " 0   0       8549 non-null   float64\n",
            "dtypes: float64(1)\n",
            "memory usage: 66.9 KB\n"
          ],
          "name": "stdout"
        }
      ]
    },
    {
      "cell_type": "code",
      "metadata": {
        "id": "l3II7FiyEsIC"
      },
      "source": [
        "pred = pred.rename(columns={0: \"Adview\"})"
      ],
      "execution_count": 55,
      "outputs": []
    },
    {
      "cell_type": "code",
      "metadata": {
        "colab": {
          "base_uri": "https://localhost:8080/",
          "height": 204
        },
        "id": "H-XKKSa8KaRL",
        "outputId": "96d40241-f4ce-43bf-912d-d292a590fb42"
      },
      "source": [
        "pred.head()"
      ],
      "execution_count": 56,
      "outputs": [
        {
          "output_type": "execute_result",
          "data": {
            "text/html": [
              "<div>\n",
              "<style scoped>\n",
              "    .dataframe tbody tr th:only-of-type {\n",
              "        vertical-align: middle;\n",
              "    }\n",
              "\n",
              "    .dataframe tbody tr th {\n",
              "        vertical-align: top;\n",
              "    }\n",
              "\n",
              "    .dataframe thead th {\n",
              "        text-align: right;\n",
              "    }\n",
              "</style>\n",
              "<table border=\"1\" class=\"dataframe\">\n",
              "  <thead>\n",
              "    <tr style=\"text-align: right;\">\n",
              "      <th></th>\n",
              "      <th>Adview</th>\n",
              "    </tr>\n",
              "  </thead>\n",
              "  <tbody>\n",
              "    <tr>\n",
              "      <th>0</th>\n",
              "      <td>2.0</td>\n",
              "    </tr>\n",
              "    <tr>\n",
              "      <th>1</th>\n",
              "      <td>13.0</td>\n",
              "    </tr>\n",
              "    <tr>\n",
              "      <th>2</th>\n",
              "      <td>1.0</td>\n",
              "    </tr>\n",
              "    <tr>\n",
              "      <th>3</th>\n",
              "      <td>9.0</td>\n",
              "    </tr>\n",
              "    <tr>\n",
              "      <th>4</th>\n",
              "      <td>1.0</td>\n",
              "    </tr>\n",
              "  </tbody>\n",
              "</table>\n",
              "</div>"
            ],
            "text/plain": [
              "   Adview\n",
              "0     2.0\n",
              "1    13.0\n",
              "2     1.0\n",
              "3     9.0\n",
              "4     1.0"
            ]
          },
          "metadata": {
            "tags": []
          },
          "execution_count": 56
        }
      ]
    },
    {
      "cell_type": "code",
      "metadata": {
        "id": "gYQWsXfTKktx"
      },
      "source": [
        "\n",
        "pred.to_csv('PredictAdviews_DecisionTree.csv')"
      ],
      "execution_count": 58,
      "outputs": []
    }
  ]
}